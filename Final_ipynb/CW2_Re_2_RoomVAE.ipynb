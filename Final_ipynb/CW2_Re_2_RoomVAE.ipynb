{
  "cells": [
    {
      "cell_type": "code",
      "execution_count": 48,
      "metadata": {
        "id": "JUCYADP_1Ewv"
      },
      "outputs": [],
      "source": [
        "import numpy as np\n",
        "import tensorflow as tf\n",
        "from tensorflow.keras import layers, models\n",
        "import matplotlib.pyplot as plt"
      ]
    },
    {
      "cell_type": "code",
      "execution_count": 49,
      "metadata": {
        "colab": {
          "base_uri": "https://localhost:8080/"
        },
        "id": "O6IQkVKu1J_H",
        "outputId": "6694be70-8b01-474e-a90b-2ecfbec18dcf"
      },
      "outputs": [
        {
          "output_type": "stream",
          "name": "stdout",
          "text": [
            "Shape of input data: (1157, 16, 16, 1)\n"
          ]
        }
      ],
      "source": [
        "# Load and preprocess the dataset\n",
        "file_path = 'rooms_dataset.npy'\n",
        "rooms_dataset = np.load(file_path)\n",
        "\n",
        "# Ensure the data has a channels dimension (assumed to be grayscale)\n",
        "rooms_dataset = np.expand_dims(rooms_dataset, axis=-1)  # Adding channel dimension if not present\n",
        "rooms_dataset_normalized = rooms_dataset / np.max(rooms_dataset)\n",
        "rooms_dataset_normalized = rooms_dataset_normalized.astype(np.float32)\n",
        "\n",
        "print(\"Shape of input data:\", rooms_dataset_normalized.shape)  # Should be (num_samples, height, width, channels)"
      ]
    },
    {
      "cell_type": "code",
      "execution_count": 50,
      "metadata": {
        "id": "66nAEpQs5E0e"
      },
      "outputs": [],
      "source": [
        "def augment_data(dataset):\n",
        "    augmented_dataset = []\n",
        "    for image in dataset:\n",
        "        image = np.squeeze(image)  # Remove channel dimension for augmentation\n",
        "        # Apply random transformations\n",
        "        image = np.rot90(image, k=np.random.randint(4))\n",
        "        if np.random.rand() > 0.5:\n",
        "            image = np.fliplr(image)\n",
        "        if np.random.rand() > 0.5:\n",
        "            image = np.flipud(image)\n",
        "        augmented_dataset.append(image)\n",
        "    return np.expand_dims(np.array(augmented_dataset), axis=-1)  # Add channel dimension back\n",
        "\n",
        "rooms_dataset_augmented = augment_data(rooms_dataset_normalized)\n"
      ]
    },
    {
      "cell_type": "code",
      "execution_count": 51,
      "metadata": {
        "colab": {
          "base_uri": "https://localhost:8080/"
        },
        "id": "81R1DAZw97QV",
        "outputId": "dc2c4009-26af-4c40-e9f0-f1e90481196a"
      },
      "outputs": [
        {
          "output_type": "stream",
          "name": "stdout",
          "text": [
            "Training set size: 925\n",
            "Validation set size: 232\n"
          ]
        }
      ],
      "source": [
        "# Split dataset into training and validation sets\n",
        "split_ratio = 0.8\n",
        "split_index = int(split_ratio * len(rooms_dataset_normalized))\n",
        "\n",
        "train_dataset = rooms_dataset_normalized[:split_index]\n",
        "val_dataset = rooms_dataset_normalized[split_index:]\n",
        "\n",
        "print(f\"Training set size: {len(train_dataset)}\")\n",
        "print(f\"Validation set size: {len(val_dataset)}\")\n"
      ]
    },
    {
      "cell_type": "code",
      "execution_count": 52,
      "metadata": {
        "id": "oQ0a663jvOiG"
      },
      "outputs": [],
      "source": [
        "\n",
        "# Define the VAE model components\n",
        "\n",
        "# # Encoder\n",
        "# def build_encoder(input_shape, latent_dim):\n",
        "#     inputs = layers.Input(shape=input_shape)\n",
        "#     x = layers.Conv2D(32, (3, 3), activation='relu', padding='same')(inputs)\n",
        "#     x = layers.MaxPooling2D((2, 2), padding='same')(x)\n",
        "#     x = layers.Conv2D(64, (3, 3), activation='relu', padding='same')(x)\n",
        "#     x = layers.MaxPooling2D((2, 2), padding='same')(x)\n",
        "#     x = layers.Flatten()(x)\n",
        "#     x = layers.Dense(128, activation='relu')(x)\n",
        "\n",
        "#     z_mean = layers.Dense(latent_dim)(x)\n",
        "#     z_log_var = layers.Dense(latent_dim)(x)\n",
        "\n",
        "#     return models.Model(inputs, [z_mean, z_log_var], name=\"encoder\")\n",
        "\n",
        "# # Decoder\n",
        "# def build_decoder(latent_dim, output_shape):\n",
        "#     latent_inputs = layers.Input(shape=(latent_dim,))\n",
        "#     x = layers.Dense(4 * 4 * 64, activation='relu')(latent_inputs)  # Adjust size to match intermediate shape\n",
        "#     x = layers.Reshape((4, 4, 64))(x)  # Adjust size to match intermediate shape\n",
        "#     x = layers.Conv2DTranspose(64, (3, 3), activation='relu', padding='same')(x)\n",
        "#     x = layers.UpSampling2D((2, 2))(x)  # Shape: (8, 8, 64)\n",
        "#     x = layers.Conv2DTranspose(32, (3, 3), activation='relu', padding='same')(x)\n",
        "#     x = layers.UpSampling2D((2, 2))(x)  # Shape: (16, 16, 32)\n",
        "#     x = layers.Conv2DTranspose(16, (3, 3), activation='relu', padding='same')(x)  # Shape: (16, 16, 16)\n",
        "#     outputs = layers.Conv2DTranspose(output_shape[-1], (3, 3), activation='sigmoid', padding='same')(x)  # Shape: (16, 16, 1)\n",
        "\n",
        "#     return models.Model(latent_inputs, outputs, name=\"decoder\")\n",
        "\n",
        "\n",
        "# Decoder\n",
        "def build_decoder(latent_dim, output_shape):\n",
        "    latent_inputs = layers.Input(shape=(latent_dim,))\n",
        "    x = layers.Dense(4 * 4 * 64, activation='relu')(latent_inputs)  # Adjust size to match intermediate shape\n",
        "    x = layers.Reshape((4, 4, 64))(x)  # Adjust size to match intermediate shape\n",
        "    x = layers.Conv2DTranspose(64, (3, 3), activation='relu', padding='same')(x)\n",
        "    x = layers.UpSampling2D((2, 2))(x)  # Shape: (8, 8, 64)\n",
        "    x = layers.Conv2DTranspose(32, (3, 3), activation='relu', padding='same')(x)\n",
        "    x = layers.UpSampling2D((2, 2))(x)  # Shape: (16, 16, 32)\n",
        "    x = layers.Conv2DTranspose(16, (3, 3), activation='relu', padding='same')(x)  # Shape: (16, 16, 16)\n",
        "    outputs = layers.Conv2DTranspose(output_shape[-1], (3, 3), activation='sigmoid', padding='same')(x)  # Shape: (16, 16, 1)\n",
        "\n",
        "    return models.Model(latent_inputs, outputs, name=\"decoder\")\n",
        "\n",
        "\n",
        "\n",
        "# VAE Model\n",
        "class VAE(tf.keras.Model):\n",
        "    def __init__(self, encoder, decoder, **kwargs):\n",
        "        super(VAE, self).__init__(**kwargs)\n",
        "        self.encoder = encoder\n",
        "        self.decoder = decoder\n",
        "\n",
        "    def call(self, inputs):\n",
        "        z_mean, z_log_var = self.encoder(inputs)\n",
        "        z = self.reparameterize(z_mean, z_log_var)\n",
        "        reconstructed = self.decoder(z)\n",
        "        return reconstructed\n",
        "\n",
        "    def reparameterize(self, z_mean, z_log_var):\n",
        "        epsilon = tf.keras.backend.random_normal(shape=tf.shape(z_mean))\n",
        "        return z_mean + tf.exp(0.5 * z_log_var) * epsilon\n",
        "\n",
        "    def compute_loss(self, x, y):\n",
        "        z_mean, z_log_var = self.encoder(x)\n",
        "        reconstructed = self.decoder(self.reparameterize(z_mean, z_log_var))\n",
        "\n",
        "        # Binary cross-entropy loss\n",
        "        reconstruction_loss = tf.reduce_mean(tf.keras.losses.binary_crossentropy(x, reconstructed))\n",
        "\n",
        "        # KL divergence loss with scaling\n",
        "        kl_loss = -0.5 * tf.reduce_mean(tf.reduce_sum(1 + z_log_var - tf.square(z_mean) - tf.exp(z_log_var), axis=1))\n",
        "\n",
        "        # Combining losses with weights\n",
        "        total_loss = reconstruction_loss + kl_loss * 0.1\n",
        "\n",
        "        return total_loss\n",
        "\n",
        "# Hyperparameters\n",
        "input_shape = rooms_dataset_normalized.shape[1:]  # Shape of input images\n",
        "latent_dim = 2  # Number of latent dimensions\n",
        "output_shape = input_shape\n",
        "\n"
      ]
    },
    {
      "cell_type": "code",
      "execution_count": 53,
      "metadata": {
        "id": "R0SPIGPewtyH"
      },
      "outputs": [],
      "source": [
        "encoder = build_enhanced_encoder(input_shape, latent_dim)  # Use build_enhanced_encoder\n",
        "decoder = build_decoder(latent_dim, output_shape) # Now the build_decoder function is defined and can be called.\n",
        "vae = VAE(encoder, decoder)"
      ]
    },
    {
      "cell_type": "code",
      "execution_count": 54,
      "metadata": {
        "colab": {
          "base_uri": "https://localhost:8080/"
        },
        "id": "EzK7SF4Ywz9-",
        "outputId": "f8fd971a-ac78-4bf4-9bf8-f0ee375db67c"
      },
      "outputs": [
        {
          "output_type": "stream",
          "name": "stdout",
          "text": [
            "Epoch 1/100, Loss: 0.3492618203163147, Validation Loss: 0.4537186622619629\n",
            "Epoch 2/100, Loss: 0.3661477565765381, Validation Loss: 0.44387173652648926\n",
            "Epoch 3/100, Loss: 0.35669779777526855, Validation Loss: 0.4426337480545044\n",
            "Epoch 4/100, Loss: 0.357119083404541, Validation Loss: 0.4563891887664795\n",
            "Epoch 5/100, Loss: 0.3205670714378357, Validation Loss: 0.4416847229003906\n",
            "Epoch 6/100, Loss: 0.3161851167678833, Validation Loss: 0.44188788533210754\n",
            "Epoch 7/100, Loss: 0.35339003801345825, Validation Loss: 0.44689133763313293\n",
            "Epoch 8/100, Loss: 0.38451021909713745, Validation Loss: 0.44215986132621765\n",
            "Epoch 9/100, Loss: 0.38458123803138733, Validation Loss: 0.4409007132053375\n",
            "Epoch 10/100, Loss: 0.3043728768825531, Validation Loss: 0.4483341574668884\n",
            "Epoch 11/100, Loss: 0.34008607268333435, Validation Loss: 0.44244736433029175\n",
            "Epoch 12/100, Loss: 0.32090526819229126, Validation Loss: 0.44793739914894104\n",
            "Epoch 13/100, Loss: 0.3317447006702423, Validation Loss: 0.4319906532764435\n",
            "Epoch 14/100, Loss: 0.3526068329811096, Validation Loss: 0.42834118008613586\n",
            "Epoch 15/100, Loss: 0.31839728355407715, Validation Loss: 0.43260347843170166\n",
            "Epoch 16/100, Loss: 0.3005216121673584, Validation Loss: 0.4325653612613678\n",
            "Epoch 17/100, Loss: 0.3020130693912506, Validation Loss: 0.4290871322154999\n",
            "Epoch 18/100, Loss: 0.28340473771095276, Validation Loss: 0.4358537495136261\n",
            "Epoch 19/100, Loss: 0.3396613895893097, Validation Loss: 0.42180371284484863\n",
            "Epoch 20/100, Loss: 0.3063857853412628, Validation Loss: 0.43089306354522705\n",
            "Epoch 21/100, Loss: 0.35541775822639465, Validation Loss: 0.42671772837638855\n",
            "Epoch 22/100, Loss: 0.2927165925502777, Validation Loss: 0.43538784980773926\n",
            "Epoch 23/100, Loss: 0.34635138511657715, Validation Loss: 0.42036300897598267\n",
            "Epoch 24/100, Loss: 0.335750013589859, Validation Loss: 0.43676674365997314\n",
            "Epoch 25/100, Loss: 0.25986820459365845, Validation Loss: 0.4331023693084717\n",
            "Epoch 26/100, Loss: 0.3128570020198822, Validation Loss: 0.4254743754863739\n",
            "Epoch 27/100, Loss: 0.2918056547641754, Validation Loss: 0.4378649592399597\n",
            "Epoch 28/100, Loss: 0.2840779721736908, Validation Loss: 0.4329482316970825\n",
            "Epoch 29/100, Loss: 0.3124890625476837, Validation Loss: 0.42371898889541626\n",
            "Epoch 30/100, Loss: 0.3202940821647644, Validation Loss: 0.42789947986602783\n",
            "Epoch 31/100, Loss: 0.29917851090431213, Validation Loss: 0.42051762342453003\n",
            "Epoch 32/100, Loss: 0.3309033215045929, Validation Loss: 0.4330165684223175\n",
            "Epoch 33/100, Loss: 0.3242766559123993, Validation Loss: 0.42956647276878357\n",
            "Epoch 34/100, Loss: 0.3365289866924286, Validation Loss: 0.4197692573070526\n",
            "Epoch 35/100, Loss: 0.31707432866096497, Validation Loss: 0.42918646335601807\n",
            "Epoch 36/100, Loss: 0.32229718565940857, Validation Loss: 0.4348708689212799\n",
            "Epoch 37/100, Loss: 0.3184104561805725, Validation Loss: 0.42554783821105957\n",
            "Epoch 38/100, Loss: 0.29568588733673096, Validation Loss: 0.43590301275253296\n",
            "Epoch 39/100, Loss: 0.2996237576007843, Validation Loss: 0.4268648326396942\n",
            "Epoch 40/100, Loss: 0.30432069301605225, Validation Loss: 0.4279351234436035\n",
            "Epoch 41/100, Loss: 0.3279942572116852, Validation Loss: 0.4335309863090515\n",
            "Epoch 42/100, Loss: 0.30173930525779724, Validation Loss: 0.4381127953529358\n",
            "Epoch 43/100, Loss: 0.28599345684051514, Validation Loss: 0.43137460947036743\n",
            "Epoch 44/100, Loss: 0.3185877799987793, Validation Loss: 0.4289945363998413\n",
            "Epoch 45/100, Loss: 0.3192625641822815, Validation Loss: 0.43429476022720337\n",
            "Epoch 46/100, Loss: 0.3025420010089874, Validation Loss: 0.4294532239437103\n",
            "Epoch 47/100, Loss: 0.30696800351142883, Validation Loss: 0.4336012303829193\n",
            "Epoch 48/100, Loss: 0.32554715871810913, Validation Loss: 0.428197979927063\n",
            "Epoch 49/100, Loss: 0.2832799255847931, Validation Loss: 0.42649078369140625\n",
            "Epoch 50/100, Loss: 0.32605502009391785, Validation Loss: 0.4294576644897461\n",
            "Epoch 51/100, Loss: 0.31187334656715393, Validation Loss: 0.43032389879226685\n",
            "Epoch 52/100, Loss: 0.32736843824386597, Validation Loss: 0.4302489757537842\n",
            "Epoch 53/100, Loss: 0.3241937756538391, Validation Loss: 0.42206233739852905\n",
            "Epoch 54/100, Loss: 0.3573639988899231, Validation Loss: 0.42781367897987366\n",
            "Epoch 55/100, Loss: 0.2888413369655609, Validation Loss: 0.4312804937362671\n",
            "Epoch 56/100, Loss: 0.2990846633911133, Validation Loss: 0.42941105365753174\n",
            "Epoch 57/100, Loss: 0.3067628741264343, Validation Loss: 0.43127554655075073\n",
            "Epoch 58/100, Loss: 0.2793096899986267, Validation Loss: 0.4320637583732605\n",
            "Epoch 59/100, Loss: 0.2871984541416168, Validation Loss: 0.43552303314208984\n",
            "Epoch 60/100, Loss: 0.32089734077453613, Validation Loss: 0.42654210329055786\n",
            "Epoch 61/100, Loss: 0.3125966191291809, Validation Loss: 0.42976516485214233\n",
            "Epoch 62/100, Loss: 0.3269020617008209, Validation Loss: 0.43873196840286255\n",
            "Epoch 63/100, Loss: 0.30729174613952637, Validation Loss: 0.42245179414749146\n",
            "Epoch 64/100, Loss: 0.2950992286205292, Validation Loss: 0.4507795572280884\n",
            "Epoch 65/100, Loss: 0.30307701230049133, Validation Loss: 0.43040210008621216\n",
            "Epoch 66/100, Loss: 0.31133773922920227, Validation Loss: 0.4267072379589081\n",
            "Epoch 67/100, Loss: 0.31468597054481506, Validation Loss: 0.4371311664581299\n",
            "Epoch 68/100, Loss: 0.3154628276824951, Validation Loss: 0.43484413623809814\n",
            "Epoch 69/100, Loss: 0.29410436749458313, Validation Loss: 0.4233892858028412\n",
            "Epoch 70/100, Loss: 0.29775169491767883, Validation Loss: 0.42915278673171997\n",
            "Epoch 71/100, Loss: 0.2792396545410156, Validation Loss: 0.4425411522388458\n",
            "Epoch 72/100, Loss: 0.30775976181030273, Validation Loss: 0.42832866311073303\n",
            "Epoch 73/100, Loss: 0.31137531995773315, Validation Loss: 0.4318375289440155\n",
            "Epoch 74/100, Loss: 0.3039453327655792, Validation Loss: 0.43900036811828613\n",
            "Epoch 75/100, Loss: 0.30596286058425903, Validation Loss: 0.4358650743961334\n",
            "Epoch 76/100, Loss: 0.35047033429145813, Validation Loss: 0.4276951551437378\n",
            "Epoch 77/100, Loss: 0.3042052090167999, Validation Loss: 0.43114811182022095\n",
            "Epoch 78/100, Loss: 0.3188430070877075, Validation Loss: 0.4312422275543213\n",
            "Epoch 79/100, Loss: 0.29277804493904114, Validation Loss: 0.4354991614818573\n",
            "Epoch 80/100, Loss: 0.29942038655281067, Validation Loss: 0.4295192062854767\n",
            "Epoch 81/100, Loss: 0.30114904046058655, Validation Loss: 0.44024235010147095\n",
            "Epoch 82/100, Loss: 0.3040773272514343, Validation Loss: 0.43180137872695923\n",
            "Epoch 83/100, Loss: 0.3413218855857849, Validation Loss: 0.4350076913833618\n",
            "Epoch 84/100, Loss: 0.3001363277435303, Validation Loss: 0.4289422035217285\n",
            "Epoch 85/100, Loss: 0.3104194700717926, Validation Loss: 0.4435567557811737\n",
            "Epoch 86/100, Loss: 0.3233257830142975, Validation Loss: 0.42487889528274536\n",
            "Epoch 87/100, Loss: 0.2869536578655243, Validation Loss: 0.4440111815929413\n",
            "Epoch 88/100, Loss: 0.30848193168640137, Validation Loss: 0.4258231222629547\n",
            "Epoch 89/100, Loss: 0.31105515360832214, Validation Loss: 0.4302609860897064\n",
            "Epoch 90/100, Loss: 0.2976335287094116, Validation Loss: 0.44720694422721863\n",
            "Epoch 91/100, Loss: 0.31843310594558716, Validation Loss: 0.43465104699134827\n",
            "Epoch 92/100, Loss: 0.31182563304901123, Validation Loss: 0.4295920431613922\n",
            "Epoch 93/100, Loss: 0.36676836013793945, Validation Loss: 0.43074697256088257\n",
            "Epoch 94/100, Loss: 0.31585121154785156, Validation Loss: 0.4269309639930725\n",
            "Epoch 95/100, Loss: 0.34040942788124084, Validation Loss: 0.4350888133049011\n",
            "Epoch 96/100, Loss: 0.33767440915107727, Validation Loss: 0.4281112849712372\n",
            "Epoch 97/100, Loss: 0.3182753622531891, Validation Loss: 0.4309682548046112\n",
            "Epoch 98/100, Loss: 0.30781760811805725, Validation Loss: 0.4285898208618164\n",
            "Epoch 99/100, Loss: 0.32576146721839905, Validation Loss: 0.4356895685195923\n",
            "Epoch 100/100, Loss: 0.3158836364746094, Validation Loss: 0.4392325282096863\n"
          ]
        }
      ],
      "source": [
        "# Compile the model\n",
        "optimizer = tf.keras.optimizers.Adam()\n",
        "\n",
        "@tf.function\n",
        "def train_step(x):\n",
        "    with tf.GradientTape() as tape:\n",
        "        reconstructed = vae(x, training=True)\n",
        "        loss = vae.compute_loss(x, reconstructed)\n",
        "    grads = tape.gradient(loss, vae.trainable_variables)\n",
        "    optimizer.apply_gradients(zip(grads, vae.trainable_variables))\n",
        "    return loss\n",
        "\n",
        "# def train(epochs, batch_size):\n",
        "#     dataset = tf.data.Dataset.from_tensor_slices(rooms_dataset_normalized).shuffle(1000).batch(batch_size)\n",
        "#     for epoch in range(epochs):\n",
        "#         for batch in dataset:\n",
        "#             loss = train_step(batch)\n",
        "#         print(f\"Epoch {epoch + 1}/{epochs}, Loss: {loss.numpy()}\")\n",
        "\n",
        "# # Train the model\n",
        "# train(epochs=50, batch_size=64)\n",
        "\n",
        "def train(epochs, batch_size):\n",
        "    train_ds = tf.data.Dataset.from_tensor_slices(train_dataset).shuffle(1000).batch(batch_size)\n",
        "    val_ds = tf.data.Dataset.from_tensor_slices(val_dataset).batch(batch_size)\n",
        "\n",
        "    for epoch in range(epochs):\n",
        "        # Training\n",
        "        for batch in train_ds:\n",
        "            loss = train_step(batch)\n",
        "\n",
        "        # Validation\n",
        "        val_loss = tf.keras.metrics.Mean()\n",
        "        for batch in val_ds:\n",
        "            val_loss.update_state(vae.compute_loss(batch, batch))\n",
        "\n",
        "        print(f\"Epoch {epoch + 1}/{epochs}, Loss: {loss.numpy()}, Validation Loss: {val_loss.result().numpy()}\")\n",
        "\n",
        "# Train the model\n",
        "train(epochs=100, batch_size=64)\n",
        "\n"
      ]
    },
    {
      "cell_type": "code",
      "source": [
        "# Generate new rooms\n",
        "def generate_room(latent_dim, decoder):\n",
        "    z = np.random.normal(size=(1, latent_dim))\n",
        "    generated_room = decoder.predict(z)\n",
        "    return generated_room[0]\n",
        "\n",
        "\n",
        "\n",
        "# Generate and display a new room\n",
        "new_room = generate_room(latent_dim, decoder)\n",
        "plt.imshow(new_room.squeeze(), cmap='viridis')\n",
        "plt.title('Generated Room')\n",
        "plt.axis('off')\n",
        "plt.show()"
      ],
      "metadata": {
        "colab": {
          "base_uri": "https://localhost:8080/",
          "height": 446
        },
        "id": "I-udRMYSJ-hF",
        "outputId": "bd9c04a9-94fe-407f-a83b-5e210b396490"
      },
      "execution_count": 57,
      "outputs": [
        {
          "output_type": "stream",
          "name": "stdout",
          "text": [
            "1/1 [==============================] - 0s 26ms/step\n"
          ]
        },
        {
          "output_type": "display_data",
          "data": {
            "text/plain": [
              "<Figure size 640x480 with 1 Axes>"
            ],
            "image/png": "[encoded data removed]"
          },
          "metadata": {}
        }
      ]
    },
    {
      "cell_type": "code",
      "source": [
        "import numpy as np\n",
        "import matplotlib.pyplot as plt\n",
        "\n",
        "def generate_room(latent_dim, decoder):\n",
        "    # Generate random latent vector\n",
        "    z = np.random.normal(size=(1, latent_dim))\n",
        "\n",
        "    # Predict the room using the decoder\n",
        "    generated_room = decoder.predict(z)\n",
        "\n",
        "    # Post-process the image\n",
        "    generated_room = generated_room[0]\n",
        "\n",
        "    # Normalize to [0, 1] if not already normalized\n",
        "    if generated_room.max() > 1:\n",
        "        generated_room = (generated_room - generated_room.min()) / (generated_room.max() - generated_room.min())\n",
        "\n",
        "    # Convert to 0-255 integer values\n",
        "    generated_room = np.clip(generated_room * 255, 0, 255).astype(np.uint8)\n",
        "\n",
        "    return generated_room\n",
        "\n",
        "def display_room(image_array, cmap='viridis'):\n",
        "    plt.figure(figsize=(8, 8))\n",
        "    plt.imshow(image_array.squeeze(), cmap=cmap)\n",
        "    plt.title('Generated Room')\n",
        "    plt.axis('off')\n",
        "    plt.show()\n",
        "\n",
        "# Generate and display a new room\n",
        "new_room = generate_room(latent_dim, decoder)\n",
        "display_room(new_room, cmap='viridis')\n"
      ],
      "metadata": {
        "colab": {
          "base_uri": "https://localhost:8080/",
          "height": 693
        },
        "id": "k7P9snonMcOv",
        "outputId": "0b99916f-3edb-4a1b-b510-2c8bf07ff071"
      },
      "execution_count": 59,
      "outputs": [
        {
          "output_type": "stream",
          "name": "stdout",
          "text": [
            "1/1 [==============================] - 0s 68ms/step\n"
          ]
        },
        {
          "output_type": "display_data",
          "data": {
            "text/plain": [
              "<Figure size 800x800 with 1 Axes>"
            ],
            "image/png": "[encoded data removed]"
          },
          "metadata": {}
        }
      ]
    }
  ],
  "metadata": {
    "colab": {
      "provenance": []
    },
    "kernelspec": {
      "display_name": "Python 3",
      "name": "python3"
    },
    "language_info": {
      "name": "python"
    }
  },
  "nbformat": 4,
  "nbformat_minor": 0
}